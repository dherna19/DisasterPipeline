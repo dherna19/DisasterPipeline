{
 "cells": [
  {
   "cell_type": "markdown",
   "metadata": {},
   "source": [
    "# ML Pipeline Preparation\n",
    "Follow the instructions below to help you create your ML pipeline.\n",
    "### 1. Import libraries and load data from database.\n",
    "- Import Python libraries\n",
    "- Load dataset from database with [`read_sql_table`](https://pandas.pydata.org/pandas-docs/stable/generated/pandas.read_sql_table.html)\n",
    "- Define feature and target variables X and Y"
   ]
  },
  {
   "cell_type": "code",
   "execution_count": 1,
   "metadata": {},
   "outputs": [
    {
     "name": "stdout",
     "output_type": "stream",
     "text": [
      "[nltk_data] Downloading package punkt to /root/nltk_data...\n",
      "[nltk_data]   Unzipping tokenizers/punkt.zip.\n",
      "[nltk_data] Downloading package wordnet to /root/nltk_data...\n",
      "[nltk_data]   Unzipping corpora/wordnet.zip.\n"
     ]
    },
    {
     "data": {
      "text/plain": [
       "True"
      ]
     },
     "execution_count": 1,
     "metadata": {},
     "output_type": "execute_result"
    }
   ],
   "source": [
    "# import libraries\n",
    "import pandas as pd\n",
    "import numpy as np\n",
    "from sqlalchemy import create_engine\n",
    "import nltk\n",
    "from sklearn.pipeline import Pipeline\n",
    "from sklearn.model_selection import train_test_split\n",
    "from sklearn.metrics import classification_report\n",
    "from sklearn.metrics import confusion_matrix\n",
    "from sklearn.metrics import fbeta_score, make_scorer\n",
    "from sklearn.ensemble import GradientBoostingClassifier, RandomForestClassifier\n",
    "from sklearn.model_selection import GridSearchCV\n",
    "from sklearn.feature_extraction.text import TfidfTransformer, CountVectorizer\n",
    "from sklearn.multioutput import MultiOutputClassifier\n",
    "import pickle\n",
    "nltk.download('punkt')\n",
    "nltk.download('wordnet')"
   ]
  },
  {
   "cell_type": "code",
   "execution_count": 4,
   "metadata": {},
   "outputs": [
    {
     "data": {
      "text/html": [
       "<div>\n",
       "<style scoped>\n",
       "    .dataframe tbody tr th:only-of-type {\n",
       "        vertical-align: middle;\n",
       "    }\n",
       "\n",
       "    .dataframe tbody tr th {\n",
       "        vertical-align: top;\n",
       "    }\n",
       "\n",
       "    .dataframe thead th {\n",
       "        text-align: right;\n",
       "    }\n",
       "</style>\n",
       "<table border=\"1\" class=\"dataframe\">\n",
       "  <thead>\n",
       "    <tr style=\"text-align: right;\">\n",
       "      <th></th>\n",
       "      <th>id</th>\n",
       "      <th>message</th>\n",
       "      <th>original</th>\n",
       "      <th>genre</th>\n",
       "      <th>related</th>\n",
       "      <th>request</th>\n",
       "      <th>offer</th>\n",
       "      <th>aid_related</th>\n",
       "      <th>medical_help</th>\n",
       "      <th>medical_products</th>\n",
       "      <th>...</th>\n",
       "      <th>aid_centers</th>\n",
       "      <th>other_infrastructure</th>\n",
       "      <th>weather_related</th>\n",
       "      <th>floods</th>\n",
       "      <th>storm</th>\n",
       "      <th>fire</th>\n",
       "      <th>earthquake</th>\n",
       "      <th>cold</th>\n",
       "      <th>other_weather</th>\n",
       "      <th>direct_report</th>\n",
       "    </tr>\n",
       "  </thead>\n",
       "  <tbody>\n",
       "    <tr>\n",
       "      <th>0</th>\n",
       "      <td>2</td>\n",
       "      <td>Weather update - a cold front from Cuba that c...</td>\n",
       "      <td>Un front froid se retrouve sur Cuba ce matin. ...</td>\n",
       "      <td>direct</td>\n",
       "      <td>1</td>\n",
       "      <td>0</td>\n",
       "      <td>0</td>\n",
       "      <td>0</td>\n",
       "      <td>0</td>\n",
       "      <td>0</td>\n",
       "      <td>...</td>\n",
       "      <td>0</td>\n",
       "      <td>0</td>\n",
       "      <td>0</td>\n",
       "      <td>0</td>\n",
       "      <td>0</td>\n",
       "      <td>0</td>\n",
       "      <td>0</td>\n",
       "      <td>0</td>\n",
       "      <td>0</td>\n",
       "      <td>0</td>\n",
       "    </tr>\n",
       "    <tr>\n",
       "      <th>1</th>\n",
       "      <td>7</td>\n",
       "      <td>Is the Hurricane over or is it not over</td>\n",
       "      <td>Cyclone nan fini osinon li pa fini</td>\n",
       "      <td>direct</td>\n",
       "      <td>1</td>\n",
       "      <td>0</td>\n",
       "      <td>0</td>\n",
       "      <td>1</td>\n",
       "      <td>0</td>\n",
       "      <td>0</td>\n",
       "      <td>...</td>\n",
       "      <td>0</td>\n",
       "      <td>0</td>\n",
       "      <td>1</td>\n",
       "      <td>0</td>\n",
       "      <td>1</td>\n",
       "      <td>0</td>\n",
       "      <td>0</td>\n",
       "      <td>0</td>\n",
       "      <td>0</td>\n",
       "      <td>0</td>\n",
       "    </tr>\n",
       "    <tr>\n",
       "      <th>2</th>\n",
       "      <td>8</td>\n",
       "      <td>Looking for someone but no name</td>\n",
       "      <td>Patnm, di Maryani relem pou li banm nouvel li ...</td>\n",
       "      <td>direct</td>\n",
       "      <td>1</td>\n",
       "      <td>0</td>\n",
       "      <td>0</td>\n",
       "      <td>0</td>\n",
       "      <td>0</td>\n",
       "      <td>0</td>\n",
       "      <td>...</td>\n",
       "      <td>0</td>\n",
       "      <td>0</td>\n",
       "      <td>0</td>\n",
       "      <td>0</td>\n",
       "      <td>0</td>\n",
       "      <td>0</td>\n",
       "      <td>0</td>\n",
       "      <td>0</td>\n",
       "      <td>0</td>\n",
       "      <td>0</td>\n",
       "    </tr>\n",
       "    <tr>\n",
       "      <th>3</th>\n",
       "      <td>9</td>\n",
       "      <td>UN reports Leogane 80-90 destroyed. Only Hospi...</td>\n",
       "      <td>UN reports Leogane 80-90 destroyed. Only Hospi...</td>\n",
       "      <td>direct</td>\n",
       "      <td>1</td>\n",
       "      <td>1</td>\n",
       "      <td>0</td>\n",
       "      <td>1</td>\n",
       "      <td>0</td>\n",
       "      <td>1</td>\n",
       "      <td>...</td>\n",
       "      <td>0</td>\n",
       "      <td>0</td>\n",
       "      <td>0</td>\n",
       "      <td>0</td>\n",
       "      <td>0</td>\n",
       "      <td>0</td>\n",
       "      <td>0</td>\n",
       "      <td>0</td>\n",
       "      <td>0</td>\n",
       "      <td>0</td>\n",
       "    </tr>\n",
       "    <tr>\n",
       "      <th>4</th>\n",
       "      <td>12</td>\n",
       "      <td>says: west side of Haiti, rest of the country ...</td>\n",
       "      <td>facade ouest d Haiti et le reste du pays aujou...</td>\n",
       "      <td>direct</td>\n",
       "      <td>1</td>\n",
       "      <td>0</td>\n",
       "      <td>0</td>\n",
       "      <td>0</td>\n",
       "      <td>0</td>\n",
       "      <td>0</td>\n",
       "      <td>...</td>\n",
       "      <td>0</td>\n",
       "      <td>0</td>\n",
       "      <td>0</td>\n",
       "      <td>0</td>\n",
       "      <td>0</td>\n",
       "      <td>0</td>\n",
       "      <td>0</td>\n",
       "      <td>0</td>\n",
       "      <td>0</td>\n",
       "      <td>0</td>\n",
       "    </tr>\n",
       "  </tbody>\n",
       "</table>\n",
       "<p>5 rows × 40 columns</p>\n",
       "</div>"
      ],
      "text/plain": [
       "   id                                            message  \\\n",
       "0   2  Weather update - a cold front from Cuba that c...   \n",
       "1   7            Is the Hurricane over or is it not over   \n",
       "2   8                    Looking for someone but no name   \n",
       "3   9  UN reports Leogane 80-90 destroyed. Only Hospi...   \n",
       "4  12  says: west side of Haiti, rest of the country ...   \n",
       "\n",
       "                                            original   genre  related  \\\n",
       "0  Un front froid se retrouve sur Cuba ce matin. ...  direct        1   \n",
       "1                 Cyclone nan fini osinon li pa fini  direct        1   \n",
       "2  Patnm, di Maryani relem pou li banm nouvel li ...  direct        1   \n",
       "3  UN reports Leogane 80-90 destroyed. Only Hospi...  direct        1   \n",
       "4  facade ouest d Haiti et le reste du pays aujou...  direct        1   \n",
       "\n",
       "   request  offer  aid_related  medical_help  medical_products      ...        \\\n",
       "0        0      0            0             0                 0      ...         \n",
       "1        0      0            1             0                 0      ...         \n",
       "2        0      0            0             0                 0      ...         \n",
       "3        1      0            1             0                 1      ...         \n",
       "4        0      0            0             0                 0      ...         \n",
       "\n",
       "   aid_centers  other_infrastructure  weather_related  floods  storm  fire  \\\n",
       "0            0                     0                0       0      0     0   \n",
       "1            0                     0                1       0      1     0   \n",
       "2            0                     0                0       0      0     0   \n",
       "3            0                     0                0       0      0     0   \n",
       "4            0                     0                0       0      0     0   \n",
       "\n",
       "   earthquake  cold  other_weather  direct_report  \n",
       "0           0     0              0              0  \n",
       "1           0     0              0              0  \n",
       "2           0     0              0              0  \n",
       "3           0     0              0              0  \n",
       "4           0     0              0              0  \n",
       "\n",
       "[5 rows x 40 columns]"
      ]
     },
     "execution_count": 4,
     "metadata": {},
     "output_type": "execute_result"
    }
   ],
   "source": [
    "# load data from database\n",
    "engine = create_engine('sqlite:///DisasterResponse.db')\n",
    "df = pd.read_sql_table('DisasterResponse', engine)\n",
    "X = df.filter(items=['id', 'message', 'original', 'genre'])\n",
    "y = df.drop(['id', 'message', 'original', 'genre'], axis=1)\n",
    "y['related']=y['related'].map(lambda x: 1 if x == 2 else x)\n",
    "df.head()"
   ]
  },
  {
   "cell_type": "code",
   "execution_count": 17,
   "metadata": {},
   "outputs": [
    {
     "data": {
      "text/html": [
       "<div>\n",
       "<style scoped>\n",
       "    .dataframe tbody tr th:only-of-type {\n",
       "        vertical-align: middle;\n",
       "    }\n",
       "\n",
       "    .dataframe tbody tr th {\n",
       "        vertical-align: top;\n",
       "    }\n",
       "\n",
       "    .dataframe thead th {\n",
       "        text-align: right;\n",
       "    }\n",
       "</style>\n",
       "<table border=\"1\" class=\"dataframe\">\n",
       "  <thead>\n",
       "    <tr style=\"text-align: right;\">\n",
       "      <th></th>\n",
       "      <th>related</th>\n",
       "      <th>request</th>\n",
       "      <th>offer</th>\n",
       "      <th>aid_related</th>\n",
       "      <th>medical_help</th>\n",
       "      <th>medical_products</th>\n",
       "      <th>search_and_rescue</th>\n",
       "      <th>security</th>\n",
       "      <th>military</th>\n",
       "      <th>child_alone</th>\n",
       "      <th>...</th>\n",
       "      <th>aid_centers</th>\n",
       "      <th>other_infrastructure</th>\n",
       "      <th>weather_related</th>\n",
       "      <th>floods</th>\n",
       "      <th>storm</th>\n",
       "      <th>fire</th>\n",
       "      <th>earthquake</th>\n",
       "      <th>cold</th>\n",
       "      <th>other_weather</th>\n",
       "      <th>direct_report</th>\n",
       "    </tr>\n",
       "  </thead>\n",
       "  <tbody>\n",
       "    <tr>\n",
       "      <th>0</th>\n",
       "      <td>1</td>\n",
       "      <td>0</td>\n",
       "      <td>0</td>\n",
       "      <td>0</td>\n",
       "      <td>0</td>\n",
       "      <td>0</td>\n",
       "      <td>0</td>\n",
       "      <td>0</td>\n",
       "      <td>0</td>\n",
       "      <td>0</td>\n",
       "      <td>...</td>\n",
       "      <td>0</td>\n",
       "      <td>0</td>\n",
       "      <td>0</td>\n",
       "      <td>0</td>\n",
       "      <td>0</td>\n",
       "      <td>0</td>\n",
       "      <td>0</td>\n",
       "      <td>0</td>\n",
       "      <td>0</td>\n",
       "      <td>0</td>\n",
       "    </tr>\n",
       "    <tr>\n",
       "      <th>1</th>\n",
       "      <td>1</td>\n",
       "      <td>0</td>\n",
       "      <td>0</td>\n",
       "      <td>1</td>\n",
       "      <td>0</td>\n",
       "      <td>0</td>\n",
       "      <td>0</td>\n",
       "      <td>0</td>\n",
       "      <td>0</td>\n",
       "      <td>0</td>\n",
       "      <td>...</td>\n",
       "      <td>0</td>\n",
       "      <td>0</td>\n",
       "      <td>1</td>\n",
       "      <td>0</td>\n",
       "      <td>1</td>\n",
       "      <td>0</td>\n",
       "      <td>0</td>\n",
       "      <td>0</td>\n",
       "      <td>0</td>\n",
       "      <td>0</td>\n",
       "    </tr>\n",
       "    <tr>\n",
       "      <th>2</th>\n",
       "      <td>1</td>\n",
       "      <td>0</td>\n",
       "      <td>0</td>\n",
       "      <td>0</td>\n",
       "      <td>0</td>\n",
       "      <td>0</td>\n",
       "      <td>0</td>\n",
       "      <td>0</td>\n",
       "      <td>0</td>\n",
       "      <td>0</td>\n",
       "      <td>...</td>\n",
       "      <td>0</td>\n",
       "      <td>0</td>\n",
       "      <td>0</td>\n",
       "      <td>0</td>\n",
       "      <td>0</td>\n",
       "      <td>0</td>\n",
       "      <td>0</td>\n",
       "      <td>0</td>\n",
       "      <td>0</td>\n",
       "      <td>0</td>\n",
       "    </tr>\n",
       "    <tr>\n",
       "      <th>3</th>\n",
       "      <td>1</td>\n",
       "      <td>1</td>\n",
       "      <td>0</td>\n",
       "      <td>1</td>\n",
       "      <td>0</td>\n",
       "      <td>1</td>\n",
       "      <td>0</td>\n",
       "      <td>0</td>\n",
       "      <td>0</td>\n",
       "      <td>0</td>\n",
       "      <td>...</td>\n",
       "      <td>0</td>\n",
       "      <td>0</td>\n",
       "      <td>0</td>\n",
       "      <td>0</td>\n",
       "      <td>0</td>\n",
       "      <td>0</td>\n",
       "      <td>0</td>\n",
       "      <td>0</td>\n",
       "      <td>0</td>\n",
       "      <td>0</td>\n",
       "    </tr>\n",
       "    <tr>\n",
       "      <th>4</th>\n",
       "      <td>1</td>\n",
       "      <td>0</td>\n",
       "      <td>0</td>\n",
       "      <td>0</td>\n",
       "      <td>0</td>\n",
       "      <td>0</td>\n",
       "      <td>0</td>\n",
       "      <td>0</td>\n",
       "      <td>0</td>\n",
       "      <td>0</td>\n",
       "      <td>...</td>\n",
       "      <td>0</td>\n",
       "      <td>0</td>\n",
       "      <td>0</td>\n",
       "      <td>0</td>\n",
       "      <td>0</td>\n",
       "      <td>0</td>\n",
       "      <td>0</td>\n",
       "      <td>0</td>\n",
       "      <td>0</td>\n",
       "      <td>0</td>\n",
       "    </tr>\n",
       "  </tbody>\n",
       "</table>\n",
       "<p>5 rows × 36 columns</p>\n",
       "</div>"
      ],
      "text/plain": [
       "   related  request  offer  aid_related  medical_help  medical_products  \\\n",
       "0        1        0      0            0             0                 0   \n",
       "1        1        0      0            1             0                 0   \n",
       "2        1        0      0            0             0                 0   \n",
       "3        1        1      0            1             0                 1   \n",
       "4        1        0      0            0             0                 0   \n",
       "\n",
       "   search_and_rescue  security  military  child_alone      ...        \\\n",
       "0                  0         0         0            0      ...         \n",
       "1                  0         0         0            0      ...         \n",
       "2                  0         0         0            0      ...         \n",
       "3                  0         0         0            0      ...         \n",
       "4                  0         0         0            0      ...         \n",
       "\n",
       "   aid_centers  other_infrastructure  weather_related  floods  storm  fire  \\\n",
       "0            0                     0                0       0      0     0   \n",
       "1            0                     0                1       0      1     0   \n",
       "2            0                     0                0       0      0     0   \n",
       "3            0                     0                0       0      0     0   \n",
       "4            0                     0                0       0      0     0   \n",
       "\n",
       "   earthquake  cold  other_weather  direct_report  \n",
       "0           0     0              0              0  \n",
       "1           0     0              0              0  \n",
       "2           0     0              0              0  \n",
       "3           0     0              0              0  \n",
       "4           0     0              0              0  \n",
       "\n",
       "[5 rows x 36 columns]"
      ]
     },
     "execution_count": 17,
     "metadata": {},
     "output_type": "execute_result"
    }
   ],
   "source": [
    "y.head()"
   ]
  },
  {
   "cell_type": "markdown",
   "metadata": {},
   "source": [
    "### 2. Write a tokenization function to process your text data"
   ]
  },
  {
   "cell_type": "code",
   "execution_count": 6,
   "metadata": {},
   "outputs": [],
   "source": [
    "\n",
    "def tokenize(text):\n",
    "    tokens = nltk.word_tokenize(text)\n",
    "    lemmatizer = nltk.WordNetLemmatizer()\n",
    "    return [lemmatizer.lemmatize(w).lower().strip() for w in tokens]"
   ]
  },
  {
   "cell_type": "markdown",
   "metadata": {},
   "source": [
    "### 3. Build a machine learning pipeline\n",
    "This machine pipeline should take in the `message` column as input and output classification results on the other 36 categories in the dataset. You may find the [MultiOutputClassifier](http://scikit-learn.org/stable/modules/generated/sklearn.multioutput.MultiOutputClassifier.html) helpful for predicting multiple target variables."
   ]
  },
  {
   "cell_type": "code",
   "execution_count": 7,
   "metadata": {},
   "outputs": [],
   "source": [
    "#ML Pipeline\n",
    "pipeline = Pipeline([('cvect', CountVectorizer(tokenizer = tokenize)),\n",
    "                     ('tfidf', TfidfTransformer()),\n",
    "                     ('clf', RandomForestClassifier())\n",
    "                     ])"
   ]
  },
  {
   "cell_type": "markdown",
   "metadata": {},
   "source": [
    "### 4. Train pipeline\n",
    "- Split data into train and test sets\n",
    "- Train pipeline"
   ]
  },
  {
   "cell_type": "code",
   "execution_count": 8,
   "metadata": {},
   "outputs": [
    {
     "data": {
      "text/plain": [
       "Pipeline(memory=None,\n",
       "     steps=[('cvect', CountVectorizer(analyzer='word', binary=False, decode_error='strict',\n",
       "        dtype=<class 'numpy.int64'>, encoding='utf-8', input='content',\n",
       "        lowercase=True, max_df=1.0, max_features=None, min_df=1,\n",
       "        ngram_range=(1, 1), preprocessor=None, stop_words=None,\n",
       "        stri...n_jobs=1,\n",
       "            oob_score=False, random_state=None, verbose=0,\n",
       "            warm_start=False))])"
      ]
     },
     "execution_count": 8,
     "metadata": {},
     "output_type": "execute_result"
    }
   ],
   "source": [
    "#split into train and test data sets\n",
    "X_train, X_test, y_train, y_test = train_test_split(X, y)\n",
    "pipeline.fit(X_train['message'], y_train)"
   ]
  },
  {
   "cell_type": "code",
   "execution_count": 9,
   "metadata": {},
   "outputs": [
    {
     "data": {
      "text/plain": [
       "(6554, 36)"
      ]
     },
     "execution_count": 9,
     "metadata": {},
     "output_type": "execute_result"
    }
   ],
   "source": [
    "y_test.shape"
   ]
  },
  {
   "cell_type": "code",
   "execution_count": 13,
   "metadata": {},
   "outputs": [
    {
     "data": {
      "text/plain": [
       "(19662, 36)"
      ]
     },
     "execution_count": 13,
     "metadata": {},
     "output_type": "execute_result"
    }
   ],
   "source": [
    "y_train.shape"
   ]
  },
  {
   "cell_type": "markdown",
   "metadata": {},
   "source": [
    "### 5. Test your model\n",
    "Report the f1 score, precision and recall for each output category of the dataset. You can do this by iterating through the columns and calling sklearn's `classification_report` on each."
   ]
  },
  {
   "cell_type": "code",
   "execution_count": 8,
   "metadata": {},
   "outputs": [
    {
     "name": "stdout",
     "output_type": "stream",
     "text": [
      "                        precision    recall  f1-score   support\n",
      "\n",
      "               related       0.84      0.90      0.87      5026\n",
      "               request       0.85      0.41      0.55      1118\n",
      "                 offer       0.00      0.00      0.00        31\n",
      "           aid_related       0.79      0.43      0.55      2691\n",
      "          medical_help       0.64      0.02      0.03       511\n",
      "      medical_products       0.50      0.01      0.03       347\n",
      "     search_and_rescue       0.75      0.02      0.04       163\n",
      "              security       0.00      0.00      0.00       118\n",
      "              military       1.00      0.01      0.02       208\n",
      "                 water       0.89      0.14      0.24       422\n",
      "                  food       0.85      0.26      0.40       748\n",
      "               shelter       0.83      0.11      0.20       568\n",
      "              clothing       0.50      0.01      0.02       113\n",
      "                 money       0.83      0.03      0.07       145\n",
      "        missing_people       0.00      0.00      0.00        61\n",
      "              refugees       1.00      0.00      0.01       216\n",
      "                 death       0.94      0.05      0.10       293\n",
      "             other_aid       0.69      0.04      0.07       824\n",
      "infrastructure_related       0.00      0.00      0.00       389\n",
      "             transport       1.00      0.01      0.03       290\n",
      "             buildings       0.71      0.03      0.06       320\n",
      "           electricity       0.00      0.00      0.00       152\n",
      "                 tools       0.00      0.00      0.00        42\n",
      "             hospitals       0.00      0.00      0.00        50\n",
      "                 shops       0.00      0.00      0.00        35\n",
      "           aid_centers       0.00      0.00      0.00        72\n",
      "  other_infrastructure       0.00      0.00      0.00       260\n",
      "       weather_related       0.86      0.39      0.53      1814\n",
      "                floods       0.89      0.17      0.28       534\n",
      "                 storm       0.76      0.17      0.28       638\n",
      "                  fire       0.00      0.00      0.00        66\n",
      "            earthquake       0.93      0.33      0.49       571\n",
      "                  cold       1.00      0.01      0.03       141\n",
      "         other_weather       0.75      0.02      0.03       345\n",
      "         direct_report       0.82      0.35      0.49      1266\n",
      "\n",
      "           avg / total       0.77      0.39      0.45     20588\n",
      "\n",
      "-----------\n",
      "\n",
      "                         precision    recall  f1-score   support\n",
      "\n",
      "               related       0.99      1.00      1.00     15068\n",
      "               request       1.00      0.93      0.96      3356\n",
      "                 offer       1.00      0.70      0.82        87\n",
      "           aid_related       1.00      0.95      0.98      8169\n",
      "          medical_help       1.00      0.82      0.90      1573\n",
      "      medical_products       1.00      0.82      0.90       966\n",
      "     search_and_rescue       1.00      0.76      0.86       561\n",
      "              security       1.00      0.74      0.85       353\n",
      "              military       1.00      0.78      0.88       652\n",
      "                 water       1.00      0.88      0.94      1250\n",
      "                  food       1.00      0.91      0.95      2175\n",
      "               shelter       1.00      0.89      0.94      1746\n",
      "              clothing       1.00      0.83      0.91       292\n",
      "                 money       1.00      0.76      0.87       459\n",
      "        missing_people       1.00      0.79      0.88       237\n",
      "              refugees       1.00      0.75      0.86       659\n",
      "                 death       1.00      0.83      0.91       901\n",
      "             other_aid       1.00      0.84      0.91      2622\n",
      "infrastructure_related       1.00      0.78      0.88      1316\n",
      "             transport       1.00      0.77      0.87       911\n",
      "             buildings       1.00      0.84      0.91      1013\n",
      "           electricity       1.00      0.77      0.87       380\n",
      "                 tools       1.00      0.68      0.81       117\n",
      "             hospitals       1.00      0.69      0.82       233\n",
      "                 shops       1.00      0.72      0.84        85\n",
      "           aid_centers       1.00      0.68      0.81       237\n",
      "  other_infrastructure       1.00      0.79      0.88       891\n",
      "       weather_related       1.00      0.94      0.97      5483\n",
      "                floods       1.00      0.87      0.93      1621\n",
      "                 storm       1.00      0.91      0.95      1805\n",
      "                  fire       1.00      0.79      0.88       216\n",
      "            earthquake       1.00      0.92      0.96      1884\n",
      "                  cold       1.00      0.78      0.88       389\n",
      "         other_weather       1.00      0.81      0.90      1031\n",
      "         direct_report       1.00      0.91      0.95      3809\n",
      "\n",
      "           avg / total       1.00      0.91      0.95     62547\n",
      "\n"
     ]
    },
    {
     "name": "stderr",
     "output_type": "stream",
     "text": [
      "/opt/conda/lib/python3.6/site-packages/sklearn/metrics/classification.py:1135: UndefinedMetricWarning: Precision and F-score are ill-defined and being set to 0.0 in labels with no predicted samples.\n",
      "  'precision', 'predicted', average, warn_for)\n"
     ]
    }
   ],
   "source": [
    "#run classification reports\n",
    "y_pred_test = pipeline.predict(X_test['message'])\n",
    "y_pred_train = pipeline.predict(X_train['message'])\n",
    "print(classification_report(y_test.values, y_pred_test, target_names=y.columns.values))\n",
    "print('-----------')\n",
    "print('\\n',classification_report(y_train.values, y_pred_train, target_names=y.columns.values))"
   ]
  },
  {
   "cell_type": "markdown",
   "metadata": {},
   "source": [
    "### 6. Improve your model\n",
    "Use grid search to find better parameters. "
   ]
  },
  {
   "cell_type": "code",
   "execution_count": 9,
   "metadata": {},
   "outputs": [
    {
     "name": "stdout",
     "output_type": "stream",
     "text": [
      "Fitting 3 folds for each of 12 candidates, totalling 36 fits\n",
      "[CV] clf__max_depth=10, clf__min_samples_split=5, clf__n_estimators=10 \n",
      "[CV]  clf__max_depth=10, clf__min_samples_split=5, clf__n_estimators=10, score=0.3919882475187215, total=  10.8s\n",
      "[CV] clf__max_depth=10, clf__min_samples_split=5, clf__n_estimators=10 \n"
     ]
    },
    {
     "name": "stderr",
     "output_type": "stream",
     "text": [
      "[Parallel(n_jobs=-1)]: Done   1 out of   1 | elapsed:   17.7s remaining:    0.0s\n"
     ]
    },
    {
     "name": "stdout",
     "output_type": "stream",
     "text": [
      "[CV]  clf__max_depth=10, clf__min_samples_split=5, clf__n_estimators=10, score=0.386786355475763, total=  10.7s\n",
      "[CV] clf__max_depth=10, clf__min_samples_split=5, clf__n_estimators=10 \n"
     ]
    },
    {
     "name": "stderr",
     "output_type": "stream",
     "text": [
      "[Parallel(n_jobs=-1)]: Done   2 out of   2 | elapsed:   35.3s remaining:    0.0s\n"
     ]
    },
    {
     "name": "stdout",
     "output_type": "stream",
     "text": [
      "[CV]  clf__max_depth=10, clf__min_samples_split=5, clf__n_estimators=10, score=0.3882844585344765, total=  10.9s\n",
      "[CV] clf__max_depth=10, clf__min_samples_split=5, clf__n_estimators=20 \n"
     ]
    },
    {
     "name": "stderr",
     "output_type": "stream",
     "text": [
      "[Parallel(n_jobs=-1)]: Done   3 out of   3 | elapsed:   53.2s remaining:    0.0s\n"
     ]
    },
    {
     "name": "stdout",
     "output_type": "stream",
     "text": [
      "[CV]  clf__max_depth=10, clf__min_samples_split=5, clf__n_estimators=20, score=0.3831168831168832, total=  11.7s\n",
      "[CV] clf__max_depth=10, clf__min_samples_split=5, clf__n_estimators=20 \n"
     ]
    },
    {
     "name": "stderr",
     "output_type": "stream",
     "text": [
      "[Parallel(n_jobs=-1)]: Done   4 out of   4 | elapsed:  1.2min remaining:    0.0s\n"
     ]
    },
    {
     "name": "stdout",
     "output_type": "stream",
     "text": [
      "[CV]  clf__max_depth=10, clf__min_samples_split=5, clf__n_estimators=20, score=0.3799076212471131, total=  11.6s\n",
      "[CV] clf__max_depth=10, clf__min_samples_split=5, clf__n_estimators=20 \n"
     ]
    },
    {
     "name": "stderr",
     "output_type": "stream",
     "text": [
      "[Parallel(n_jobs=-1)]: Done   5 out of   5 | elapsed:  1.5min remaining:    0.0s\n"
     ]
    },
    {
     "name": "stdout",
     "output_type": "stream",
     "text": [
      "[CV]  clf__max_depth=10, clf__min_samples_split=5, clf__n_estimators=20, score=0.3803347583508441, total=  11.5s\n",
      "[CV] clf__max_depth=10, clf__min_samples_split=10, clf__n_estimators=10 \n"
     ]
    },
    {
     "name": "stderr",
     "output_type": "stream",
     "text": [
      "[Parallel(n_jobs=-1)]: Done   6 out of   6 | elapsed:  1.8min remaining:    0.0s\n"
     ]
    },
    {
     "name": "stdout",
     "output_type": "stream",
     "text": [
      "[CV]  clf__max_depth=10, clf__min_samples_split=10, clf__n_estimators=10, score=0.3911391497598395, total=  10.7s\n",
      "[CV] clf__max_depth=10, clf__min_samples_split=10, clf__n_estimators=10 \n"
     ]
    },
    {
     "name": "stderr",
     "output_type": "stream",
     "text": [
      "[Parallel(n_jobs=-1)]: Done   7 out of   7 | elapsed:  2.1min remaining:    0.0s\n"
     ]
    },
    {
     "name": "stdout",
     "output_type": "stream",
     "text": [
      "[CV]  clf__max_depth=10, clf__min_samples_split=10, clf__n_estimators=10, score=0.3957196361690744, total=  10.7s\n",
      "[CV] clf__max_depth=10, clf__min_samples_split=10, clf__n_estimators=10 \n"
     ]
    },
    {
     "name": "stderr",
     "output_type": "stream",
     "text": [
      "[Parallel(n_jobs=-1)]: Done   8 out of   8 | elapsed:  2.4min remaining:    0.0s\n"
     ]
    },
    {
     "name": "stdout",
     "output_type": "stream",
     "text": [
      "[CV]  clf__max_depth=10, clf__min_samples_split=10, clf__n_estimators=10, score=0.3816827027418071, total=  10.7s\n",
      "[CV] clf__max_depth=10, clf__min_samples_split=10, clf__n_estimators=20 \n"
     ]
    },
    {
     "name": "stderr",
     "output_type": "stream",
     "text": [
      "[Parallel(n_jobs=-1)]: Done   9 out of   9 | elapsed:  2.7min remaining:    0.0s\n"
     ]
    },
    {
     "name": "stdout",
     "output_type": "stream",
     "text": [
      "[CV]  clf__max_depth=10, clf__min_samples_split=10, clf__n_estimators=20, score=0.38203545254341303, total=  11.6s\n",
      "[CV] clf__max_depth=10, clf__min_samples_split=10, clf__n_estimators=20 \n",
      "[CV]  clf__max_depth=10, clf__min_samples_split=10, clf__n_estimators=20, score=0.3884184845005741, total=  11.6s\n",
      "[CV] clf__max_depth=10, clf__min_samples_split=10, clf__n_estimators=20 \n",
      "[CV]  clf__max_depth=10, clf__min_samples_split=10, clf__n_estimators=20, score=0.389209047687653, total=  11.5s\n",
      "[CV] clf__max_depth=20, clf__min_samples_split=5, clf__n_estimators=10 \n",
      "[CV]  clf__max_depth=20, clf__min_samples_split=5, clf__n_estimators=10, score=0.42168716924263133, total=  11.1s\n",
      "[CV] clf__max_depth=20, clf__min_samples_split=5, clf__n_estimators=10 \n",
      "[CV]  clf__max_depth=20, clf__min_samples_split=5, clf__n_estimators=10, score=0.41662283008942663, total=  11.1s\n",
      "[CV] clf__max_depth=20, clf__min_samples_split=5, clf__n_estimators=10 \n",
      "[CV]  clf__max_depth=20, clf__min_samples_split=5, clf__n_estimators=10, score=0.41460317460317464, total=  11.1s\n",
      "[CV] clf__max_depth=20, clf__min_samples_split=5, clf__n_estimators=20 \n",
      "[CV]  clf__max_depth=20, clf__min_samples_split=5, clf__n_estimators=20, score=0.40907161052929525, total=  12.4s\n",
      "[CV] clf__max_depth=20, clf__min_samples_split=5, clf__n_estimators=20 \n",
      "[CV]  clf__max_depth=20, clf__min_samples_split=5, clf__n_estimators=20, score=0.42087212150906417, total=  12.4s\n",
      "[CV] clf__max_depth=20, clf__min_samples_split=5, clf__n_estimators=20 \n",
      "[CV]  clf__max_depth=20, clf__min_samples_split=5, clf__n_estimators=20, score=0.41295661091269137, total=  12.5s\n",
      "[CV] clf__max_depth=20, clf__min_samples_split=10, clf__n_estimators=10 \n",
      "[CV]  clf__max_depth=20, clf__min_samples_split=10, clf__n_estimators=10, score=0.4183974179062588, total=  11.0s\n",
      "[CV] clf__max_depth=20, clf__min_samples_split=10, clf__n_estimators=10 \n",
      "[CV]  clf__max_depth=20, clf__min_samples_split=10, clf__n_estimators=10, score=0.41676302603454923, total=  11.1s\n",
      "[CV] clf__max_depth=20, clf__min_samples_split=10, clf__n_estimators=10 \n",
      "[CV]  clf__max_depth=20, clf__min_samples_split=10, clf__n_estimators=10, score=0.41566859236297027, total=  11.3s\n",
      "[CV] clf__max_depth=20, clf__min_samples_split=10, clf__n_estimators=20 \n",
      "[CV]  clf__max_depth=20, clf__min_samples_split=10, clf__n_estimators=20, score=0.4132849134435708, total=  12.3s\n",
      "[CV] clf__max_depth=20, clf__min_samples_split=10, clf__n_estimators=20 \n",
      "[CV]  clf__max_depth=20, clf__min_samples_split=10, clf__n_estimators=20, score=0.4107029542409927, total=  12.4s\n",
      "[CV] clf__max_depth=20, clf__min_samples_split=10, clf__n_estimators=20 \n",
      "[CV]  clf__max_depth=20, clf__min_samples_split=10, clf__n_estimators=20, score=0.4115730575819817, total=  12.5s\n",
      "[CV] clf__max_depth=None, clf__min_samples_split=5, clf__n_estimators=10 \n",
      "[CV]  clf__max_depth=None, clf__min_samples_split=5, clf__n_estimators=10, score=0.5510973176679229, total=  16.9s\n",
      "[CV] clf__max_depth=None, clf__min_samples_split=5, clf__n_estimators=10 \n",
      "[CV]  clf__max_depth=None, clf__min_samples_split=5, clf__n_estimators=10, score=0.5550293616215193, total=  16.8s\n",
      "[CV] clf__max_depth=None, clf__min_samples_split=5, clf__n_estimators=10 \n",
      "[CV]  clf__max_depth=None, clf__min_samples_split=5, clf__n_estimators=10, score=0.5576399011344192, total=  16.8s\n",
      "[CV] clf__max_depth=None, clf__min_samples_split=5, clf__n_estimators=20 \n",
      "[CV]  clf__max_depth=None, clf__min_samples_split=5, clf__n_estimators=20, score=0.5613624133455731, total=  23.6s\n",
      "[CV] clf__max_depth=None, clf__min_samples_split=5, clf__n_estimators=20 \n",
      "[CV]  clf__max_depth=None, clf__min_samples_split=5, clf__n_estimators=20, score=0.5590518743860317, total=  23.9s\n",
      "[CV] clf__max_depth=None, clf__min_samples_split=5, clf__n_estimators=20 \n",
      "[CV]  clf__max_depth=None, clf__min_samples_split=5, clf__n_estimators=20, score=0.5493233904406801, total=  23.6s\n",
      "[CV] clf__max_depth=None, clf__min_samples_split=10, clf__n_estimators=10 \n",
      "[CV]  clf__max_depth=None, clf__min_samples_split=10, clf__n_estimators=10, score=0.5619089648215861, total=  16.2s\n",
      "[CV] clf__max_depth=None, clf__min_samples_split=10, clf__n_estimators=10 \n",
      "[CV]  clf__max_depth=None, clf__min_samples_split=10, clf__n_estimators=10, score=0.5518377693282637, total=  16.1s\n",
      "[CV] clf__max_depth=None, clf__min_samples_split=10, clf__n_estimators=10 \n",
      "[CV]  clf__max_depth=None, clf__min_samples_split=10, clf__n_estimators=10, score=0.5527788375937938, total=  16.0s\n",
      "[CV] clf__max_depth=None, clf__min_samples_split=10, clf__n_estimators=20 \n",
      "[CV]  clf__max_depth=None, clf__min_samples_split=10, clf__n_estimators=20, score=0.5467907573812579, total=  22.6s\n",
      "[CV] clf__max_depth=None, clf__min_samples_split=10, clf__n_estimators=20 \n",
      "[CV]  clf__max_depth=None, clf__min_samples_split=10, clf__n_estimators=20, score=0.5629751647237708, total=  22.1s\n",
      "[CV] clf__max_depth=None, clf__min_samples_split=10, clf__n_estimators=20 \n",
      "[CV]  clf__max_depth=None, clf__min_samples_split=10, clf__n_estimators=20, score=0.5577168367346939, total=  22.5s\n"
     ]
    },
    {
     "name": "stderr",
     "output_type": "stream",
     "text": [
      "[Parallel(n_jobs=-1)]: Done  36 out of  36 | elapsed: 12.8min finished\n"
     ]
    },
    {
     "data": {
      "text/plain": [
       "GridSearchCV(cv=None, error_score='raise',\n",
       "       estimator=Pipeline(memory=None,\n",
       "     steps=[('cvect', CountVectorizer(analyzer='word', binary=False, decode_error='strict',\n",
       "        dtype=<class 'numpy.int64'>, encoding='utf-8', input='content',\n",
       "        lowercase=True, max_df=1.0, max_features=None, min_df=1,\n",
       "        ngram_range=(1, 1), preprocessor=None, stop_words=None,\n",
       "        stri...n_jobs=1,\n",
       "            oob_score=False, random_state=None, verbose=0,\n",
       "            warm_start=False))]),\n",
       "       fit_params=None, iid=True, n_jobs=-1,\n",
       "       param_grid={'clf__max_depth': [10, 20, None], 'clf__min_samples_split': [5, 10], 'clf__n_estimators': [10, 20]},\n",
       "       pre_dispatch='2*n_jobs', refit=True, return_train_score='warn',\n",
       "       scoring='f1_micro', verbose=10)"
      ]
     },
     "execution_count": 9,
     "metadata": {},
     "output_type": "execute_result"
    }
   ],
   "source": [
    "#Test out different params\n",
    "parameters = {'clf__max_depth': [10, 20, None],\n",
    "              'clf__min_samples_split': [5, 10],\n",
    "              'clf__n_estimators': [10, 20]}\n",
    "\n",
    "cv = GridSearchCV(pipeline, param_grid=parameters, scoring='f1_micro', verbose=10, n_jobs=-1)\n",
    "cv.fit(X_train['message'], y_train)"
   ]
  },
  {
   "cell_type": "markdown",
   "metadata": {},
   "source": [
    "### 7. Test your model\n",
    "Show the accuracy, precision, and recall of the tuned model.  \n",
    "\n",
    "Since this project focuses on code quality, process, and  pipelines, there is no minimum performance metric needed to pass. However, make sure to fine tune your models for accuracy, precision and recall to make your project stand out - especially for your portfolio!"
   ]
  },
  {
   "cell_type": "code",
   "execution_count": 10,
   "metadata": {},
   "outputs": [
    {
     "name": "stdout",
     "output_type": "stream",
     "text": [
      "                        precision    recall  f1-score   support\n",
      "\n",
      "               related       0.82      0.96      0.89      5026\n",
      "               request       0.84      0.41      0.55      1118\n",
      "                 offer       0.00      0.00      0.00        31\n",
      "           aid_related       0.79      0.53      0.63      2691\n",
      "          medical_help       0.80      0.02      0.05       511\n",
      "      medical_products       0.75      0.02      0.03       347\n",
      "     search_and_rescue       0.00      0.00      0.00       163\n",
      "              security       0.00      0.00      0.00       118\n",
      "              military       0.71      0.02      0.05       208\n",
      "                 water       0.93      0.17      0.29       422\n",
      "                  food       0.88      0.23      0.37       748\n",
      "               shelter       0.90      0.13      0.22       568\n",
      "              clothing       0.60      0.03      0.05       113\n",
      "                 money       1.00      0.03      0.07       145\n",
      "        missing_people       0.00      0.00      0.00        61\n",
      "              refugees       0.00      0.00      0.00       216\n",
      "                 death       0.79      0.04      0.07       293\n",
      "             other_aid       0.47      0.01      0.02       824\n",
      "infrastructure_related       0.33      0.00      0.01       389\n",
      "             transport       0.75      0.01      0.02       290\n",
      "             buildings       0.33      0.00      0.01       320\n",
      "           electricity       0.00      0.00      0.00       152\n",
      "                 tools       0.00      0.00      0.00        42\n",
      "             hospitals       0.00      0.00      0.00        50\n",
      "                 shops       0.00      0.00      0.00        35\n",
      "           aid_centers       0.00      0.00      0.00        72\n",
      "  other_infrastructure       0.00      0.00      0.00       260\n",
      "       weather_related       0.87      0.45      0.59      1814\n",
      "                floods       0.91      0.13      0.23       534\n",
      "                 storm       0.81      0.20      0.32       638\n",
      "                  fire       0.00      0.00      0.00        66\n",
      "            earthquake       0.89      0.41      0.56       571\n",
      "                  cold       0.50      0.01      0.01       141\n",
      "         other_weather       0.71      0.01      0.03       345\n",
      "         direct_report       0.83      0.35      0.49      1266\n",
      "\n",
      "           avg / total       0.74      0.43      0.47     20588\n",
      "\n",
      "-------------------------------------------------------------------------------\n",
      "\n",
      "                         precision    recall  f1-score   support\n",
      "\n",
      "               related       0.99      1.00      0.99     15068\n",
      "               request       1.00      0.92      0.96      3356\n",
      "                 offer       1.00      0.51      0.67        87\n",
      "           aid_related       1.00      0.98      0.99      8169\n",
      "          medical_help       1.00      0.74      0.85      1573\n",
      "      medical_products       1.00      0.74      0.85       966\n",
      "     search_and_rescue       1.00      0.61      0.76       561\n",
      "              security       1.00      0.51      0.67       353\n",
      "              military       1.00      0.75      0.86       652\n",
      "                 water       1.00      0.88      0.94      1250\n",
      "                  food       1.00      0.90      0.95      2175\n",
      "               shelter       1.00      0.84      0.92      1746\n",
      "              clothing       1.00      0.74      0.85       292\n",
      "                 money       1.00      0.61      0.76       459\n",
      "        missing_people       1.00      0.52      0.68       237\n",
      "              refugees       1.00      0.64      0.78       659\n",
      "                 death       1.00      0.76      0.87       901\n",
      "             other_aid       1.00      0.78      0.88      2622\n",
      "infrastructure_related       1.00      0.67      0.81      1316\n",
      "             transport       1.00      0.68      0.81       911\n",
      "             buildings       1.00      0.74      0.85      1013\n",
      "           electricity       1.00      0.62      0.77       380\n",
      "                 tools       1.00      0.46      0.63       117\n",
      "             hospitals       1.00      0.58      0.74       233\n",
      "                 shops       1.00      0.33      0.50        85\n",
      "           aid_centers       1.00      0.51      0.68       237\n",
      "  other_infrastructure       1.00      0.63      0.77       891\n",
      "       weather_related       1.00      0.96      0.98      5483\n",
      "                floods       1.00      0.85      0.92      1621\n",
      "                 storm       1.00      0.91      0.95      1805\n",
      "                  fire       1.00      0.60      0.75       216\n",
      "            earthquake       0.99      0.92      0.95      1884\n",
      "                  cold       1.00      0.66      0.79       389\n",
      "         other_weather       1.00      0.67      0.81      1031\n",
      "         direct_report       1.00      0.91      0.95      3809\n",
      "\n",
      "           avg / total       1.00      0.88      0.93     62547\n",
      "\n"
     ]
    },
    {
     "name": "stderr",
     "output_type": "stream",
     "text": [
      "/opt/conda/lib/python3.6/site-packages/sklearn/metrics/classification.py:1135: UndefinedMetricWarning: Precision and F-score are ill-defined and being set to 0.0 in labels with no predicted samples.\n",
      "  'precision', 'predicted', average, warn_for)\n"
     ]
    }
   ],
   "source": [
    "y_pred_test = cv.predict(X_test['message'])\n",
    "y_pred_train = cv.predict(X_train['message'])\n",
    "print(classification_report(y_test.values, y_pred_test, target_names=y.columns.values))\n",
    "print('-------------------------------------------------------------------------------')\n",
    "print('\\n',classification_report(y_train.values, y_pred_train, target_names=y.columns.values))"
   ]
  },
  {
   "cell_type": "markdown",
   "metadata": {},
   "source": [
    "### 8. Try improving your model further. Here are a few ideas:\n",
    "* try other machine learning algorithms\n",
    "* add other features besides the TF-IDF"
   ]
  },
  {
   "cell_type": "code",
   "execution_count": 11,
   "metadata": {},
   "outputs": [
    {
     "data": {
      "text/plain": [
       "{'clf__max_depth': None, 'clf__min_samples_split': 5, 'clf__n_estimators': 20}"
      ]
     },
     "execution_count": 11,
     "metadata": {},
     "output_type": "execute_result"
    }
   ],
   "source": [
    "#test best parameter\n",
    "cv.best_params_"
   ]
  },
  {
   "cell_type": "markdown",
   "metadata": {},
   "source": [
    "### 9. Export your model as a pickle file"
   ]
  },
  {
   "cell_type": "code",
   "execution_count": 12,
   "metadata": {},
   "outputs": [],
   "source": [
    "model = pickle.dumps('clf')"
   ]
  },
  {
   "cell_type": "markdown",
   "metadata": {},
   "source": [
    "### 10. Use this notebook to complete `train.py`\n",
    "Use the template file attached in the Resources folder to write a script that runs the steps above to create a database and export a model based on a new dataset specified by the user."
   ]
  },
  {
   "cell_type": "code",
   "execution_count": null,
   "metadata": {},
   "outputs": [],
   "source": []
  }
 ],
 "metadata": {
  "kernelspec": {
   "display_name": "Python 3",
   "language": "python",
   "name": "python3"
  },
  "language_info": {
   "codemirror_mode": {
    "name": "ipython",
    "version": 3
   },
   "file_extension": ".py",
   "mimetype": "text/x-python",
   "name": "python",
   "nbconvert_exporter": "python",
   "pygments_lexer": "ipython3",
   "version": "3.6.3"
  }
 },
 "nbformat": 4,
 "nbformat_minor": 2
}
